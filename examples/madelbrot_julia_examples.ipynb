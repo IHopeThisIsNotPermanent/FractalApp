{
 "cells": [
  {
   "cell_type": "code",
   "execution_count": null,
   "id": "908aa852",
   "metadata": {},
   "outputs": [
    {
     "ename": "ModuleNotFoundError",
     "evalue": "No module named 'jpcf'",
     "output_type": "error",
     "traceback": [
      "\u001b[1;31m---------------------------------------------------------------------------\u001b[0m",
      "\u001b[1;31mModuleNotFoundError\u001b[0m                       Traceback (most recent call last)",
      "Cell \u001b[1;32mIn[1], line 1\u001b[0m\n\u001b[1;32m----> 1\u001b[0m \u001b[38;5;28;01mfrom\u001b[39;00m\u001b[38;5;250m \u001b[39m\u001b[38;5;21;01mjpcf\u001b[39;00m\u001b[38;5;21;01m.\u001b[39;00m\u001b[38;5;21;01mbase\u001b[39;00m\u001b[38;5;21;01m.\u001b[39;00m\u001b[38;5;21;01mframe_class\u001b[39;00m\u001b[38;5;250m \u001b[39m\u001b[38;5;28;01mimport\u001b[39;00m interactable_canvas\n\u001b[0;32m      2\u001b[0m \u001b[38;5;28;01mfrom\u001b[39;00m\u001b[38;5;250m \u001b[39m\u001b[38;5;21;01mjpcf\u001b[39;00m\u001b[38;5;21;01m.\u001b[39;00m\u001b[38;5;21;01mextended\u001b[39;00m\u001b[38;5;21;01m.\u001b[39;00m\u001b[38;5;21;01mcomplex_class\u001b[39;00m\u001b[38;5;250m \u001b[39m\u001b[38;5;28;01mimport\u001b[39;00m cif\n\u001b[0;32m      4\u001b[0m WIDTH, HEIGHT \u001b[38;5;241m=\u001b[39m \u001b[38;5;241m500\u001b[39m,\u001b[38;5;241m500\u001b[39m\n",
      "\u001b[1;31mModuleNotFoundError\u001b[0m: No module named 'jpcf'"
     ]
    }
   ],
   "source": [
    "from jpcf.base.frame_class import interactable_canvas\n",
    "from jpcf.extended.complex_class import cif"
   ]
  },
  {
   "cell_type": "code",
   "execution_count": null,
   "id": "2e7d6f5c",
   "metadata": {},
   "outputs": [],
   "source": [
    "WIDTH, HEIGHT = 500,500\n",
    "\n",
    "#This ones the mandlebrot set :)\n",
    "f = cif(lambda x,x0:(x*x) + x0,WIDTH, HEIGHT,4)\n",
    "cv = interactable_canvas(WIDTH, HEIGHT,f,MAX_ITER=4000)\n",
    "\n",
    "cv.c"
   ]
  },
  {
   "cell_type": "code",
   "execution_count": null,
   "id": "742a9e79",
   "metadata": {},
   "outputs": [],
   "source": [
    "c = 0.78 * 2.71 ** (2.5j)\n",
    "\n",
    "f2 = cif(lambda x,x0:(x*x) + c,WIDTH, HEIGHT,4)\n",
    "cv2 = interactable_canvas(WIDTH, HEIGHT,f2,MAX_ITER=4000)\n",
    "\n",
    "cv2.c"
   ]
  }
 ],
 "metadata": {
  "kernelspec": {
   "display_name": "Python 3",
   "language": "python",
   "name": "python3"
  },
  "language_info": {
   "codemirror_mode": {
    "name": "ipython",
    "version": 3
   },
   "file_extension": ".py",
   "mimetype": "text/x-python",
   "name": "python",
   "nbconvert_exporter": "python",
   "pygments_lexer": "ipython3",
   "version": "3.12.9"
  }
 },
 "nbformat": 4,
 "nbformat_minor": 5
}
